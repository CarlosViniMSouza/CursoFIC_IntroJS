{
 "cells": [
  {
   "cell_type": "code",
   "execution_count": 1,
   "metadata": {},
   "outputs": [],
   "source": [
    "def fatorial(n):\n",
    "    if (n < 0):\n",
    "        raise ValueError(\"Entrada nao pode ser menor que 0.\")\n",
    "\n",
    "    if(type(n) == float):\n",
    "        raise ValueError(\"Entrada nao pode ser decimal.\")\n",
    "\n",
    "    if (n > 1):\n",
    "        fat = 1\n",
    "        for i in range(1, n+1):\n",
    "            fat = fat * i\n",
    "        return fat\n",
    "    return 1"
   ]
  }
 ],
 "metadata": {
  "kernelspec": {
   "display_name": "Python 3",
   "language": "python",
   "name": "python3"
  },
  "language_info": {
   "codemirror_mode": {
    "name": "ipython",
    "version": 3
   },
   "file_extension": ".py",
   "mimetype": "text/x-python",
   "name": "python",
   "nbconvert_exporter": "python",
   "pygments_lexer": "ipython3",
   "version": "3.8.5"
  }
 },
 "nbformat": 4,
 "nbformat_minor": 4
}
