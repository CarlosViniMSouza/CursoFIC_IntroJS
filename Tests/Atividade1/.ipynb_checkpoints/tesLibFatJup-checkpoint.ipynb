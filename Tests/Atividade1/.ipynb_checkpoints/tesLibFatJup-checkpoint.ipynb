{
 "cells": [
  {
   "cell_type": "code",
   "execution_count": 11,
   "metadata": {},
   "outputs": [
    {
     "name": "stderr",
     "output_type": "stream",
     "text": [
      "E\n",
      "======================================================================\n",
      "ERROR: C:\\Users\\CarlosViniMSouza\\AppData\\Roaming\\jupyter\\runtime\\kernel-070a7a98-c9de-4997-a810-adde645fda3f (unittest.loader._FailedTest)\n",
      "----------------------------------------------------------------------\n",
      "AttributeError: module '__main__' has no attribute 'C:\\Users\\CarlosViniMSouza\\AppData\\Roaming\\jupyter\\runtime\\kernel-070a7a98-c9de-4997-a810-adde645fda3f'\n",
      "\n",
      "----------------------------------------------------------------------\n",
      "Ran 1 test in 0.001s\n",
      "\n",
      "FAILED (errors=1)\n"
     ]
    },
    {
     "ename": "SystemExit",
     "evalue": "True",
     "output_type": "error",
     "traceback": [
      "An exception has occurred, use %tb to see the full traceback.\n",
      "\u001b[1;31mSystemExit\u001b[0m\u001b[1;31m:\u001b[0m True\n"
     ]
    },
    {
     "name": "stderr",
     "output_type": "stream",
     "text": [
      "C:\\Users\\CarlosViniMSouza\\anaconda3\\lib\\site-packages\\IPython\\core\\interactiveshell.py:3426: UserWarning: To exit: use 'exit', 'quit', or Ctrl-D.\n",
      "  warn(\"To exit: use 'exit', 'quit', or Ctrl-D.\", stacklevel=1)\n"
     ]
    }
   ],
   "source": [
    "import unittest\n",
    "import libfat\n",
    "\n",
    "class testLibFat(unittest.TestCase):\n",
    "    # testar fatorial de 0 e 1\n",
    "    def test_fatorial_0(self):\n",
    "        self.assertEqual(1, libfat.fatorial(0))\n",
    "        \n",
    "    def test_fatorial_1(self):\n",
    "        self.assertEqual(1, libfat.fatorial(1))\n",
    "        \n",
    "    def test_fatorial_maior_que_1(self):\n",
    "        self.assertEqual(2, libfat.fatorial(2))\n",
    "        self.assertEqual(6, libfat.fatorial(3))\n",
    "        self.assertEqual(24, libfat.fatorial(4))\n",
    "        self.assertEqual(120, libfat.fatorial(5))\n",
    "        self.assertEqual(720, libfat.fatorial(6))\n",
    "        \n",
    "    def test_fatorial_negativos(self):\n",
    "        with self.assertRaises(ValueError):\n",
    "            libfat.fatorial(-1)\n",
    "\n",
    "    def test_fatorial_decimal(self):\n",
    "        with self.assertRaises(ValueError):\n",
    "            libfat.fatorial(1.5)\n",
    "        \"\"\"\n",
    "        Other way 👇\n",
    "\n",
    "        try:\n",
    "            self.assertRaises(ValueError)\n",
    "        except:\n",
    "            libfat.fatorial(1.5)\n",
    "        \"\"\"\n",
    "        \n",
    "if __name__ == \"__main__\":\n",
    "    unittest.main()"
   ]
  }
 ],
 "metadata": {
  "kernelspec": {
   "display_name": "Python 3",
   "language": "python",
   "name": "python3"
  },
  "language_info": {
   "codemirror_mode": {
    "name": "ipython",
    "version": 3
   },
   "file_extension": ".py",
   "mimetype": "text/x-python",
   "name": "python",
   "nbconvert_exporter": "python",
   "pygments_lexer": "ipython3",
   "version": "3.8.5"
  }
 },
 "nbformat": 4,
 "nbformat_minor": 4
}
